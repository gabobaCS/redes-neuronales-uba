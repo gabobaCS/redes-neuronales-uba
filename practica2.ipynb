{
 "cells": [
  {
   "cell_type": "code",
   "execution_count": 25,
   "metadata": {},
   "outputs": [],
   "source": [
    "from MLP import MLP\n",
    "import numpy as np\n",
    "import matplotlib.pyplot as plt"
   ]
  },
  {
   "attachments": {},
   "cell_type": "markdown",
   "metadata": {},
   "source": [
    "### 1.1. Paridad:\n",
    "El problema de XOR es equivalente al problema de paridad para dos variables, es decir, el resultado es 1 solo cuando la cantidad de unos en la entrada es impar. \n",
    "\n",
    "Implementar un perceptrón multicapa que pueda aprender el problema de paridad para distintas cantidades de variables de entrada. \\\n",
    "Entrenarlo para 2, 4, 8 y 10 variables de entrada."
   ]
  },
  {
   "cell_type": "code",
   "execution_count": 42,
   "metadata": {},
   "outputs": [],
   "source": [
    "inputs = np.array([[0, 0], [0, 1], [1, 0], [1, 1]])\n",
    "outputs = np.array([[0], [1], [1], [0]])\n",
    "paridad2 = MLP(inputs, outputs, 2)"
   ]
  },
  {
   "cell_type": "code",
   "execution_count": 48,
   "metadata": {},
   "outputs": [
    {
     "data": {
      "text/plain": [
       "[0.008524896098997186]"
      ]
     },
     "execution_count": 48,
     "metadata": {},
     "output_type": "execute_result"
    }
   ],
   "source": [
    "paridad2.train(0.6)"
   ]
  },
  {
   "cell_type": "code",
   "execution_count": 66,
   "metadata": {},
   "outputs": [
    {
     "data": {
      "text/plain": [
       "array([[1.]])"
      ]
     },
     "execution_count": 66,
     "metadata": {},
     "output_type": "execute_result"
    }
   ],
   "source": [
    "y = paridad2.predict([[0, 1]]).round(0)\n",
    "y"
   ]
  },
  {
   "cell_type": "code",
   "execution_count": 67,
   "metadata": {},
   "outputs": [],
   "source": [
    "inputs = np.array([[0, 0, 0, 0, 0, 0, 0, 0, 0, 0], \n",
    "                   [0, 0, 0, 0, 0, 0, 0, 0, 0, 1],\n",
    "                   [0, 0, 0, 0, 0, 0, 0, 0, 1, 0],\n",
    "                   [0, 0, 0, 0, 0, 0, 0, 0, 1, 1],\n",
    "                   [1, 0, 0, 0, 0, 0, 0, 1, 0, 0],\n",
    "                   [1, 1, 1, 1, 1, 1, 1, 1, 1, 1],\n",
    "                   [1, 1, 0, 1, 0, 0, 0, 0, 0, 0],\n",
    "                   [1, 1, 1, 0, 1, 0, 1, 0, 1, 0],\n",
    "                   [1, 1, 0, 1, 0, 1, 0, 1, 0, 1],\n",
    "                   [1, 0, 1, 0, 1, 0, 1, 0, 1, 0]])\n",
    "outputs = np.array([[0], [1], [1], [0], [0], [0], [1], [0], [0], [1]])\n",
    "paridad10 = MLP(inputs, outputs, 10)"
   ]
  },
  {
   "cell_type": "code",
   "execution_count": 85,
   "metadata": {},
   "outputs": [
    {
     "name": "stdout",
     "output_type": "stream",
     "text": [
      "Época:  100\n"
     ]
    },
    {
     "data": {
      "text/plain": [
       "[0.125225088826469,\n",
       " 0.11638604639434202,\n",
       " 0.11127197751463828,\n",
       " 0.10853445481295623,\n",
       " 0.10649588828606871,\n",
       " 0.10519799283260249,\n",
       " 0.10415066185948638,\n",
       " 0.10342635218120373,\n",
       " 0.10282126347526019,\n",
       " 0.10238114477525587,\n",
       " 0.10200737281798718,\n",
       " 0.10172594284289072,\n",
       " 0.10148500399523337,\n",
       " 0.10129891034897924,\n",
       " 0.10113894578517726,\n",
       " 0.10101292072230272,\n",
       " 0.100904348613533,\n",
       " 0.10081741590297552,\n",
       " 0.10074239955229333,\n",
       " 0.10068149585522963,\n",
       " 0.10062884712159166,\n",
       " 0.10058556705121058,\n",
       " 0.100548063517455,\n",
       " 0.10051686952843675,\n",
       " 0.10048974824010604,\n",
       " 0.10046692793360049,\n",
       " 0.10044699656520673,\n",
       " 0.10043002802829579,\n",
       " 0.10041511980717133,\n",
       " 0.10040227211883682,\n",
       " 0.10039090145313981,\n",
       " 0.10038097670071133,\n",
       " 0.10037211652637723,\n",
       " 0.10036427991762324,\n",
       " 0.10035721512558408,\n",
       " 0.1003508814174993,\n",
       " 0.10034511098523005,\n",
       " 0.10033986766417438,\n",
       " 0.10033503856208695,\n",
       " 0.10033059339535888,\n",
       " 0.10032645553773097,\n",
       " 0.10032260049177807,\n",
       " 0.10031897579510071,\n",
       " 0.1003155620554147,\n",
       " 0.10031232304737617,\n",
       " 0.10030924363016296,\n",
       " 0.10030629857730791,\n",
       " 0.10030347616774009,\n",
       " 0.1003007586831288,\n",
       " 0.10029813709244462,\n",
       " 0.10029559884056265,\n",
       " 0.10029313698129842,\n",
       " 0.10029074253547463,\n",
       " 0.10028841015667896,\n",
       " 0.10028613335947716,\n",
       " 0.1002839080169808,\n",
       " 0.1002817293945418,\n",
       " 0.10027959429116548,\n",
       " 0.1002774992095731,\n",
       " 0.10027544165025662,\n",
       " 0.10027341899628109,\n",
       " 0.10027142927934038,\n",
       " 0.10026947051307544,\n",
       " 0.10026754113178668,\n",
       " 0.10026563960394633,\n",
       " 0.10026376466964453,\n",
       " 0.1002619151278322,\n",
       " 0.10026008995162165,\n",
       " 0.10025828818197255,\n",
       " 0.10025650897035795,\n",
       " 0.10025475153646687,\n",
       " 0.10025301516905767,\n",
       " 0.10025129922104459,\n",
       " 0.10024960308756818,\n",
       " 0.10024792622186944,\n",
       " 0.10024626810217548,\n",
       " 0.1002446282581377,\n",
       " 0.10024300623346179,\n",
       " 0.10024140161672301,\n",
       " 0.10023981400375166,\n",
       " 0.10023824302918379,\n",
       " 0.10023668833080475,\n",
       " 0.10023514957978781,\n",
       " 0.10023362644809126,\n",
       " 0.10023211863632506,\n",
       " 0.10023062584463156,\n",
       " 0.10022914779772212,\n",
       " 0.10022768421928499,\n",
       " 0.10022623485408988,\n",
       " 0.10022479944575262,\n",
       " 0.10022337775600856,\n",
       " 0.1002219695455557,\n",
       " 0.10022057459070452,\n",
       " 0.10021919266697751,\n",
       " 0.1002178235633916,\n",
       " 0.10021646706848535,\n",
       " 0.10021512298250283,\n",
       " 0.10021379110553504,\n",
       " 0.100212471247867,\n",
       " 0.10021116321994439]"
      ]
     },
     "execution_count": 85,
     "metadata": {},
     "output_type": "execute_result"
    }
   ],
   "source": [
    "paridad10.train(0.1)"
   ]
  },
  {
   "cell_type": "code",
   "execution_count": 86,
   "metadata": {},
   "outputs": [
    {
     "data": {
      "text/plain": [
       "array([[1.]])"
      ]
     },
     "execution_count": 86,
     "metadata": {},
     "output_type": "execute_result"
    }
   ],
   "source": [
    "y = paridad10.predict([[1, 0, 1, 0, 1, 0, 1, 0, 1, 0]]).round(0)\n",
    "y"
   ]
  },
  {
   "attachments": {},
   "cell_type": "markdown",
   "metadata": {},
   "source": [
    "### 1.2. Aproximación de funciones:\n",
    "Implementar perceptrones multicapa para aproximar las siguientes funciones:\n",
    "\n",
    "$f1(x) = 1 sin(2πx) − 1 sin(2πx) + 1 sin(aπx)$\n",
    "\n",
    "$f2 (x) = 12 sin(a cos(x)). cos(2x) + 41 cos(x)$\n",
    "\n",
    "Generar conjuntos de datos de distintos tamaños tomando valores a intervalos regulares o con una distribución aleatoria uniforme en el intervalo x ∈ [−2π . . . 2π]. \\\n",
    "Entrenar la red y analizar los resultados para valores de a = 1, a = 2 y a = 4."
   ]
  }
 ],
 "metadata": {
  "kernelspec": {
   "display_name": "Python 3",
   "language": "python",
   "name": "python3"
  },
  "language_info": {
   "codemirror_mode": {
    "name": "ipython",
    "version": 3
   },
   "file_extension": ".py",
   "mimetype": "text/x-python",
   "name": "python",
   "nbconvert_exporter": "python",
   "pygments_lexer": "ipython3",
   "version": "3.10.4"
  },
  "orig_nbformat": 4
 },
 "nbformat": 4,
 "nbformat_minor": 2
}
